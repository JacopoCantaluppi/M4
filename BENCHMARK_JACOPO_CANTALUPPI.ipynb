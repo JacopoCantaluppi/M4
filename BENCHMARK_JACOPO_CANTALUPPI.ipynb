{
 "cells": [
  {
   "cell_type": "markdown",
   "id": "c5adecb2-9cdb-4da7-a53e-436908e712be",
   "metadata": {},
   "source": [
    "# BENCHMARK\n",
    "## Analisi diffusione COVID-19  nel mondo"
   ]
  },
  {
   "cell_type": "code",
   "execution_count": 4,
   "id": "922efc3a-31e6-4e63-af18-f2a3e1ad8eba",
   "metadata": {},
   "outputs": [],
   "source": [
    "import pandas as pd\n",
    "\n",
    "# inserire path assoluto da pc\n",
    "\n",
    "df = pd.read_csv (\"C:/Users/CANTJA01/Downloads/owid-covid-data.csv\", low_memory=False, delimiter=\",\")\n"
   ]
  },
  {
   "cell_type": "markdown",
   "id": "f4549884-33eb-48ae-b950-92d73a090831",
   "metadata": {},
   "source": [
    "### Si richiede di verificare le dimensioni del dataset e le diciture presenti nell'intestazione"
   ]
  },
  {
   "cell_type": "markdown",
   "id": "fe308b6d-662b-4a80-8f83-6e73dee69bdd",
   "metadata": {},
   "source": [
    "#### - dimensioni delle file (righe, colonne)"
   ]
  },
  {
   "cell_type": "code",
   "execution_count": 7,
   "id": "23b8a4cf-c477-4338-a48f-c5b1667eb909",
   "metadata": {},
   "outputs": [
    {
     "name": "stdout",
     "output_type": "stream",
     "text": [
      "Il dataset è composto da 311417 righe e 67 colonne\n"
     ]
    }
   ],
   "source": [
    "print ( \"Il dataset è composto da {} righe e {} colonne\".format(df.shape[0],df.shape[1]) )"
   ]
  },
  {
   "cell_type": "markdown",
   "id": "3d3d2d2d-933d-4d7a-897d-82b6b0d1cfcc",
   "metadata": {},
   "source": [
    "#### - diciture intestazione"
   ]
  },
  {
   "cell_type": "code",
   "execution_count": 17,
   "id": "d629fd7b-877e-41d9-95f2-e29804cc7370",
   "metadata": {},
   "outputs": [
    {
     "data": {
      "text/plain": [
       "['iso_code',\n",
       " 'continent',\n",
       " 'location',\n",
       " 'date',\n",
       " 'total_cases',\n",
       " 'new_cases',\n",
       " 'new_cases_smoothed',\n",
       " 'total_deaths',\n",
       " 'new_deaths',\n",
       " 'new_deaths_smoothed',\n",
       " 'total_cases_per_million',\n",
       " 'new_cases_per_million',\n",
       " 'new_cases_smoothed_per_million',\n",
       " 'total_deaths_per_million',\n",
       " 'new_deaths_per_million',\n",
       " 'new_deaths_smoothed_per_million',\n",
       " 'reproduction_rate',\n",
       " 'icu_patients',\n",
       " 'icu_patients_per_million',\n",
       " 'hosp_patients',\n",
       " 'hosp_patients_per_million',\n",
       " 'weekly_icu_admissions',\n",
       " 'weekly_icu_admissions_per_million',\n",
       " 'weekly_hosp_admissions',\n",
       " 'weekly_hosp_admissions_per_million',\n",
       " 'total_tests',\n",
       " 'new_tests',\n",
       " 'total_tests_per_thousand',\n",
       " 'new_tests_per_thousand',\n",
       " 'new_tests_smoothed',\n",
       " 'new_tests_smoothed_per_thousand',\n",
       " 'positive_rate',\n",
       " 'tests_per_case',\n",
       " 'tests_units',\n",
       " 'total_vaccinations',\n",
       " 'people_vaccinated',\n",
       " 'people_fully_vaccinated',\n",
       " 'total_boosters',\n",
       " 'new_vaccinations',\n",
       " 'new_vaccinations_smoothed',\n",
       " 'total_vaccinations_per_hundred',\n",
       " 'people_vaccinated_per_hundred',\n",
       " 'people_fully_vaccinated_per_hundred',\n",
       " 'total_boosters_per_hundred',\n",
       " 'new_vaccinations_smoothed_per_million',\n",
       " 'new_people_vaccinated_smoothed',\n",
       " 'new_people_vaccinated_smoothed_per_hundred',\n",
       " 'stringency_index',\n",
       " 'population_density',\n",
       " 'median_age',\n",
       " 'aged_65_older',\n",
       " 'aged_70_older',\n",
       " 'gdp_per_capita',\n",
       " 'extreme_poverty',\n",
       " 'cardiovasc_death_rate',\n",
       " 'diabetes_prevalence',\n",
       " 'female_smokers',\n",
       " 'male_smokers',\n",
       " 'handwashing_facilities',\n",
       " 'hospital_beds_per_thousand',\n",
       " 'life_expectancy',\n",
       " 'human_development_index',\n",
       " 'population',\n",
       " 'excess_mortality_cumulative_absolute',\n",
       " 'excess_mortality_cumulative',\n",
       " 'excess_mortality',\n",
       " 'excess_mortality_cumulative_per_million']"
      ]
     },
     "execution_count": 17,
     "metadata": {},
     "output_type": "execute_result"
    }
   ],
   "source": [
    "list(df.head(0))"
   ]
  },
  {
   "cell_type": "markdown",
   "id": "97667af6-684e-4530-a52a-f7f9041d15e2",
   "metadata": {},
   "source": [
    "### Si richiede poi per ogni continente di trovare il numero di casi totali avvenuti in quello stesso continente;si chiede di non considerare eventuali locazioni che nel dataset non appartengono ad alcun continente"
   ]
  },
  {
   "cell_type": "code",
   "execution_count": 130,
   "id": "d8829e6b-e71d-4bb3-ae9b-24c4277d3e6f",
   "metadata": {},
   "outputs": [
    {
     "data": {
      "text/html": [
       "<div>\n",
       "<style scoped>\n",
       "    .dataframe tbody tr th:only-of-type {\n",
       "        vertical-align: middle;\n",
       "    }\n",
       "\n",
       "    .dataframe tbody tr th {\n",
       "        vertical-align: top;\n",
       "    }\n",
       "\n",
       "    .dataframe thead th {\n",
       "        text-align: right;\n",
       "    }\n",
       "</style>\n",
       "<table border=\"1\" class=\"dataframe\">\n",
       "  <thead>\n",
       "    <tr style=\"text-align: right;\">\n",
       "      <th></th>\n",
       "      <th>new_cases</th>\n",
       "    </tr>\n",
       "    <tr>\n",
       "      <th>continent</th>\n",
       "      <th></th>\n",
       "    </tr>\n",
       "  </thead>\n",
       "  <tbody>\n",
       "    <tr>\n",
       "      <th>Africa</th>\n",
       "      <td>13088991.0</td>\n",
       "    </tr>\n",
       "    <tr>\n",
       "      <th>Asia</th>\n",
       "      <td>297234406.0</td>\n",
       "    </tr>\n",
       "    <tr>\n",
       "      <th>Europe</th>\n",
       "      <td>249319188.0</td>\n",
       "    </tr>\n",
       "    <tr>\n",
       "      <th>North America</th>\n",
       "      <td>124175560.0</td>\n",
       "    </tr>\n",
       "    <tr>\n",
       "      <th>Oceania</th>\n",
       "      <td>14073975.0</td>\n",
       "    </tr>\n",
       "    <tr>\n",
       "      <th>South America</th>\n",
       "      <td>68568119.0</td>\n",
       "    </tr>\n",
       "  </tbody>\n",
       "</table>\n",
       "</div>"
      ],
      "text/plain": [
       "                 new_cases\n",
       "continent                 \n",
       "Africa          13088991.0\n",
       "Asia           297234406.0\n",
       "Europe         249319188.0\n",
       "North America  124175560.0\n",
       "Oceania         14073975.0\n",
       "South America   68568119.0"
      ]
     },
     "execution_count": 130,
     "metadata": {},
     "output_type": "execute_result"
    }
   ],
   "source": [
    "df_continents = df[[\"continent\",\"new_cases\"]].groupby(\"continent\").sum()\n",
    "df_continents"
   ]
  },
  {
   "cell_type": "code",
   "execution_count": 132,
   "id": "a18b289c-f08d-4f35-ae25-5965652e9ef5",
   "metadata": {},
   "outputs": [
    {
     "name": "stdout",
     "output_type": "stream",
     "text": [
      "I casi nel mondo sono 766460239\n"
     ]
    }
   ],
   "source": [
    "world_cases = int(df_continents.new_cases.sum())\n",
    "print(\"I casi nel mondo sono\",world_cases)"
   ]
  },
  {
   "cell_type": "markdown",
   "id": "47467f7b-ba62-4fa4-bb80-f67c9a67818c",
   "metadata": {},
   "source": [
    "### Sempre riguardo i casi COVID totali, si chiede di sviluppare una funzione che prenda in input il dataset e due nomi di continenti, e che ne confronti i seguenti relatori statistici: valore minimo e massimo, media e percentuale rispetto al numero dei casi totali nel mondo (in questo caso calcolati anche sulle locazioni senza indicazioni di continente)."
   ]
  },
  {
   "cell_type": "code",
   "execution_count": 104,
   "id": "f3a44ee4-865f-4892-8202-a8862b5826be",
   "metadata": {},
   "outputs": [],
   "source": [
    "def statistiche_casi(df,cont_a, cont_b):   \n",
    "    continenti = (cont_a, cont_b)\n",
    "    statistiche=list()\n",
    "    for continente in continenti:\n",
    "        condizione = df.continent == continente\n",
    "        dg=df.loc[condizione][[\"continent\", \"new_cases\"]]\n",
    "        max = dg.groupby(\"continent\").max().iat[0,0]\n",
    "        min = dg.groupby(\"continent\").min().iat[0,0]\n",
    "        mean = dg.groupby(\"continent\").mean().iat[0,0]\n",
    "        percentage = dg.groupby(\"continent\").sum().iat[0,0]/world_cases*100\n",
    "        statistica = [min, max, mean, percentage]\n",
    "        statistiche.append(statistica)\n",
    "    return pd.DataFrame(statistiche,columns=[\"min\", \"max\", \"mean\", \"percentage\"],index=[cont_a,cont_b])"
   ]
  },
  {
   "cell_type": "code",
   "execution_count": 110,
   "id": "f3ea6b60-3dc2-4d12-be8c-932bc7179c5c",
   "metadata": {},
   "outputs": [
    {
     "data": {
      "text/html": [
       "<div>\n",
       "<style scoped>\n",
       "    .dataframe tbody tr th:only-of-type {\n",
       "        vertical-align: middle;\n",
       "    }\n",
       "\n",
       "    .dataframe tbody tr th {\n",
       "        vertical-align: top;\n",
       "    }\n",
       "\n",
       "    .dataframe thead th {\n",
       "        text-align: right;\n",
       "    }\n",
       "</style>\n",
       "<table border=\"1\" class=\"dataframe\">\n",
       "  <thead>\n",
       "    <tr style=\"text-align: right;\">\n",
       "      <th></th>\n",
       "      <th>min</th>\n",
       "      <th>max</th>\n",
       "      <th>mean</th>\n",
       "      <th>percentage</th>\n",
       "    </tr>\n",
       "  </thead>\n",
       "  <tbody>\n",
       "    <tr>\n",
       "      <th>Asia</th>\n",
       "      <td>0.0</td>\n",
       "      <td>6966046.0</td>\n",
       "      <td>5142.107916</td>\n",
       "      <td>38.780147</td>\n",
       "    </tr>\n",
       "    <tr>\n",
       "      <th>Africa</th>\n",
       "      <td>0.0</td>\n",
       "      <td>46914.0</td>\n",
       "      <td>186.567142</td>\n",
       "      <td>1.707720</td>\n",
       "    </tr>\n",
       "  </tbody>\n",
       "</table>\n",
       "</div>"
      ],
      "text/plain": [
       "        min        max         mean  percentage\n",
       "Asia    0.0  6966046.0  5142.107916   38.780147\n",
       "Africa  0.0    46914.0   186.567142    1.707720"
      ]
     },
     "execution_count": 110,
     "metadata": {},
     "output_type": "execute_result"
    }
   ],
   "source": [
    "statistiche_casi(df,\"Asia\",\"Africa\")"
   ]
  },
  {
   "cell_type": "markdown",
   "id": "fb75627d-2558-4f08-80e9-44d7dc8e7446",
   "metadata": {},
   "source": [
    "### Si chiede poi di effettuare lo stesso tipo di analisi - anche in questo caso sviluppando una funzione ad hoc - per il numero di vaccinazioni totali per ogni continente."
   ]
  },
  {
   "cell_type": "code",
   "execution_count": 124,
   "id": "db372319-d947-4676-9c1a-73c6fafeb44f",
   "metadata": {},
   "outputs": [
    {
     "data": {
      "text/html": [
       "<div>\n",
       "<style scoped>\n",
       "    .dataframe tbody tr th:only-of-type {\n",
       "        vertical-align: middle;\n",
       "    }\n",
       "\n",
       "    .dataframe tbody tr th {\n",
       "        vertical-align: top;\n",
       "    }\n",
       "\n",
       "    .dataframe thead th {\n",
       "        text-align: right;\n",
       "    }\n",
       "</style>\n",
       "<table border=\"1\" class=\"dataframe\">\n",
       "  <thead>\n",
       "    <tr style=\"text-align: right;\">\n",
       "      <th></th>\n",
       "      <th>new_vaccinations</th>\n",
       "    </tr>\n",
       "    <tr>\n",
       "      <th>continent</th>\n",
       "      <th></th>\n",
       "    </tr>\n",
       "  </thead>\n",
       "  <tbody>\n",
       "    <tr>\n",
       "      <th>Africa</th>\n",
       "      <td>1.173671e+08</td>\n",
       "    </tr>\n",
       "    <tr>\n",
       "      <th>Asia</th>\n",
       "      <td>7.547792e+09</td>\n",
       "    </tr>\n",
       "    <tr>\n",
       "      <th>Europe</th>\n",
       "      <td>1.264678e+09</td>\n",
       "    </tr>\n",
       "    <tr>\n",
       "      <th>North America</th>\n",
       "      <td>9.974589e+08</td>\n",
       "    </tr>\n",
       "    <tr>\n",
       "      <th>Oceania</th>\n",
       "      <td>7.454216e+07</td>\n",
       "    </tr>\n",
       "    <tr>\n",
       "      <th>South America</th>\n",
       "      <td>8.430918e+08</td>\n",
       "    </tr>\n",
       "  </tbody>\n",
       "</table>\n",
       "</div>"
      ],
      "text/plain": [
       "               new_vaccinations\n",
       "continent                      \n",
       "Africa             1.173671e+08\n",
       "Asia               7.547792e+09\n",
       "Europe             1.264678e+09\n",
       "North America      9.974589e+08\n",
       "Oceania            7.454216e+07\n",
       "South America      8.430918e+08"
      ]
     },
     "execution_count": 124,
     "metadata": {},
     "output_type": "execute_result"
    }
   ],
   "source": [
    "dfv_continents = df[[\"continent\",\"new_vaccinations\"]].groupby(\"continent\").sum()\n",
    "dfv_continents"
   ]
  },
  {
   "cell_type": "code",
   "execution_count": 133,
   "id": "ec5cacca-99ee-48f4-9e84-b5c80942411d",
   "metadata": {},
   "outputs": [
    {
     "name": "stdout",
     "output_type": "stream",
     "text": [
      "I casi nel mondo sono 10844929022\n"
     ]
    }
   ],
   "source": [
    "world_vaccinations = int(dfv_continents.new_vaccinations.sum())\n",
    "print(\"Le vaccinazioni nel mondo sono\",world_vaccinations)"
   ]
  },
  {
   "cell_type": "code",
   "execution_count": 135,
   "id": "fa700baf-cc25-45b8-974f-fdbcc91c8a56",
   "metadata": {},
   "outputs": [],
   "source": [
    "def statistiche_vaccini(df,cont_a, cont_b):   \n",
    "    continenti = (cont_a, cont_b)\n",
    "    statistiche=list()\n",
    "    for continente in continenti:\n",
    "        condizione = df.continent == continente\n",
    "        dg=df.loc[condizione][[\"continent\", \"new_vaccinations\"]]\n",
    "        max = dg.groupby(\"continent\").max().iat[0,0]\n",
    "        min = dg.groupby(\"continent\").min().iat[0,0]\n",
    "        mean = dg.groupby(\"continent\").mean().iat[0,0]\n",
    "        percentage = dg.groupby(\"continent\").sum().iat[0,0]/world_vaccinations*100\n",
    "        statistica = [min, max, mean, percentage]\n",
    "        statistiche.append(statistica)\n",
    "    return pd.DataFrame(statistiche,columns=[\"min\", \"max\", \"mean\", \"percentage\"],index=[cont_a,cont_b])"
   ]
  },
  {
   "cell_type": "code",
   "execution_count": 136,
   "id": "a57a2902-a0bc-48bb-9d37-4db4c965f762",
   "metadata": {},
   "outputs": [
    {
     "data": {
      "text/html": [
       "<div>\n",
       "<style scoped>\n",
       "    .dataframe tbody tr th:only-of-type {\n",
       "        vertical-align: middle;\n",
       "    }\n",
       "\n",
       "    .dataframe tbody tr th {\n",
       "        vertical-align: top;\n",
       "    }\n",
       "\n",
       "    .dataframe thead th {\n",
       "        text-align: right;\n",
       "    }\n",
       "</style>\n",
       "<table border=\"1\" class=\"dataframe\">\n",
       "  <thead>\n",
       "    <tr style=\"text-align: right;\">\n",
       "      <th></th>\n",
       "      <th>min</th>\n",
       "      <th>max</th>\n",
       "      <th>mean</th>\n",
       "      <th>percentage</th>\n",
       "    </tr>\n",
       "  </thead>\n",
       "  <tbody>\n",
       "    <tr>\n",
       "      <th>Asia</th>\n",
       "      <td>0.0</td>\n",
       "      <td>24741000.0</td>\n",
       "      <td>510537.849499</td>\n",
       "      <td>69.597427</td>\n",
       "    </tr>\n",
       "    <tr>\n",
       "      <th>Africa</th>\n",
       "      <td>0.0</td>\n",
       "      <td>1866822.0</td>\n",
       "      <td>42203.190939</td>\n",
       "      <td>1.082230</td>\n",
       "    </tr>\n",
       "  </tbody>\n",
       "</table>\n",
       "</div>"
      ],
      "text/plain": [
       "        min         max           mean  percentage\n",
       "Asia    0.0  24741000.0  510537.849499   69.597427\n",
       "Africa  0.0   1866822.0   42203.190939    1.082230"
      ]
     },
     "execution_count": 136,
     "metadata": {},
     "output_type": "execute_result"
    }
   ],
   "source": [
    "statistiche_vaccini(df,\"Asia\",\"Africa\")"
   ]
  },
  {
   "cell_type": "markdown",
   "id": "ee133929-d6bd-495f-b273-08b8918d5d3b",
   "metadata": {},
   "source": [
    "### Alla fine, basandosi sui calcoli fatti, il committente chiede di stilare un breve (tre o quattro righe) paragrafo testuale riassuntivo sulle statistiche di casi e vaccinazioni, che si concentri solo sulle differenze esistenti tra Europa, Sud America, e Oceania."
   ]
  },
  {
   "cell_type": "code",
   "execution_count": 142,
   "id": "5fd39284-dc70-42c1-852b-1a7aabe5df5c",
   "metadata": {},
   "outputs": [
    {
     "data": {
      "text/html": [
       "<div>\n",
       "<style scoped>\n",
       "    .dataframe tbody tr th:only-of-type {\n",
       "        vertical-align: middle;\n",
       "    }\n",
       "\n",
       "    .dataframe tbody tr th {\n",
       "        vertical-align: top;\n",
       "    }\n",
       "\n",
       "    .dataframe thead th {\n",
       "        text-align: right;\n",
       "    }\n",
       "</style>\n",
       "<table border=\"1\" class=\"dataframe\">\n",
       "  <thead>\n",
       "    <tr style=\"text-align: right;\">\n",
       "      <th></th>\n",
       "      <th>min</th>\n",
       "      <th>max</th>\n",
       "      <th>mean</th>\n",
       "      <th>percentage</th>\n",
       "    </tr>\n",
       "  </thead>\n",
       "  <tbody>\n",
       "    <tr>\n",
       "      <th>Europe</th>\n",
       "      <td>0.0</td>\n",
       "      <td>2389472.0</td>\n",
       "      <td>59979.962865</td>\n",
       "      <td>11.661464</td>\n",
       "    </tr>\n",
       "    <tr>\n",
       "      <th>Oceania</th>\n",
       "      <td>1.0</td>\n",
       "      <td>351226.0</td>\n",
       "      <td>56859.011442</td>\n",
       "      <td>0.687346</td>\n",
       "    </tr>\n",
       "    <tr>\n",
       "      <th>South America</th>\n",
       "      <td>1.0</td>\n",
       "      <td>3976605.0</td>\n",
       "      <td>150794.457521</td>\n",
       "      <td>7.774065</td>\n",
       "    </tr>\n",
       "  </tbody>\n",
       "</table>\n",
       "</div>"
      ],
      "text/plain": [
       "               min        max           mean  percentage\n",
       "Europe         0.0  2389472.0   59979.962865   11.661464\n",
       "Oceania        1.0   351226.0   56859.011442    0.687346\n",
       "South America  1.0  3976605.0  150794.457521    7.774065"
      ]
     },
     "execution_count": 142,
     "metadata": {},
     "output_type": "execute_result"
    }
   ],
   "source": [
    "pd.concat([statistiche_vaccini (df, \"Europe\",\"Oceania\"),statistiche_vaccini (df, \"South America\",\"Oceania\")], axis=0).head(3)"
   ]
  },
  {
   "cell_type": "markdown",
   "id": "dd30e202-dc3d-478c-a6b2-f9fc250f9b84",
   "metadata": {},
   "source": [
    "#### Le principali differenze che si evincono tra i tre continenti presi in considerazionione in merito al numero massimo di casi registrati si può evincere che l'America del Sud registra il maggior numero in assoluto di casi segguita da Europa e in fine abbiamo l'Oceania. In termini di media di contagi la precedente classifica si riconferma. Per quanto riguarda invece la percentuale dui vasi totali registrati a livello mondiale  l'Europa passa al primo posto. Questi dati andrebbero normalizzati in funzione della popolazione per essere rappresentativi e più efficacemente confrontabili."
   ]
  },
  {
   "cell_type": "code",
   "execution_count": null,
   "id": "a3d27083-a741-417d-a918-8e176ceb6bb3",
   "metadata": {},
   "outputs": [],
   "source": []
  }
 ],
 "metadata": {
  "kernelspec": {
   "display_name": "Python 3 (ipykernel)",
   "language": "python",
   "name": "python3"
  },
  "language_info": {
   "codemirror_mode": {
    "name": "ipython",
    "version": 3
   },
   "file_extension": ".py",
   "mimetype": "text/x-python",
   "name": "python",
   "nbconvert_exporter": "python",
   "pygments_lexer": "ipython3",
   "version": "3.10.9"
  }
 },
 "nbformat": 4,
 "nbformat_minor": 5
}
